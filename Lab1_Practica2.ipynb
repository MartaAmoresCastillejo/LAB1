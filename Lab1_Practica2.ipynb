{
  "nbformat": 4,
  "nbformat_minor": 0,
  "metadata": {
    "colab": {
      "provenance": [],
      "collapsed_sections": [
        "qpd2Vp5O6tSk",
        "yv6VfKJu-Bca",
        "NQ5Pj1VNyfG2",
        "WttJrDA721Ol"
      ]
    },
    "kernelspec": {
      "name": "python3",
      "display_name": "Python 3"
    },
    "language_info": {
      "name": "python"
    }
  },
  "cells": [
    {
      "cell_type": "markdown",
      "source": [
        "# **Práctica 2 - Perfil de los clientes de un banco**\n",
        "\n",
        "\n",
        "## Objetivo \n",
        "La sucursal del Banco Santander situada en el campus de la Universidad Francisco de Vitoria nos solicita hacer varios estudios de sus clientes. Para ello haremos uso de un dataset proporcionado por la propia sucursal que \n",
        "se puede encontrar en Moodle. \n",
        "\n"
      ],
      "metadata": {
        "id": "qpd2Vp5O6tSk"
      }
    },
    {
      "cell_type": "markdown",
      "source": [
        "## Apartado 1\n",
        "\n",
        "Para preparar los datos vamos a crear un DataFrame que luego guardaremos en un csv donde se almacenará sólo la información necesaria. Esta es: \n",
        "\n",
        "*   Age (edad)\n",
        "*   Education (nivel de estudios)\n",
        "*   Balance (saldo)\n",
        "*   Duration (días como cliente)\n"
      ],
      "metadata": {
        "id": "yv6VfKJu-Bca"
      }
    },
    {
      "cell_type": "code",
      "source": [
        "import pandas as pd\n",
        "datos = pd.read_csv('banco_ufv.csv', sep=';')"
      ],
      "metadata": {
        "id": "wTO4QazhEA1n"
      },
      "execution_count": null,
      "outputs": []
    },
    {
      "cell_type": "code",
      "source": [
        "datos1 = datos[['age', 'education', 'balance', 'duration']]\n",
        "datos.to_csv('datos1.csv', index=False)"
      ],
      "metadata": {
        "id": "ILtCpCaOKDcW"
      },
      "execution_count": null,
      "outputs": []
    },
    {
      "cell_type": "markdown",
      "source": [
        "En la siguiente linea comprobamos la existencia de NaN's en nuestro data frame, 'False' indica que no hay por lo que nos ahorramos el paso de eliminarlos."
      ],
      "metadata": {
        "id": "KToZNGdpLeFN"
      }
    },
    {
      "cell_type": "code",
      "source": [
        "datos1.isna().any().any()"
      ],
      "metadata": {
        "colab": {
          "base_uri": "https://localhost:8080/"
        },
        "id": "3aDdOaxBKQrB",
        "outputId": "cc914e68-e54b-4b66-8e17-eef9d6da624e"
      },
      "execution_count": null,
      "outputs": [
        {
          "output_type": "execute_result",
          "data": {
            "text/plain": [
              "False"
            ]
          },
          "metadata": {},
          "execution_count": 86
        }
      ]
    },
    {
      "cell_type": "markdown",
      "source": [
        "### Explica si el nivel de estudios está directamente relacionado con el saldo de cada cliente en la cuenta. "
      ],
      "metadata": {
        "id": "GH0YPhXJu7Q-"
      }
    },
    {
      "cell_type": "markdown",
      "source": [
        "\n",
        "\n",
        "Para ello estableceremos 3 rangos numéricos: \n",
        "*   Los que tienen deudas\n",
        "*   La gente que tiene unos ahorros normales (en positivo, pero menos de 10.000 euros) \n",
        "*  Los que disponen de suficientes ahorros como para ofrecerles paquetes de inversión (aquellos en positivo con más de 10.000 euros). \n",
        "\n",
        "Primero agregamos una columna para clasificar el saldo de cada cliente.\n"
      ],
      "metadata": {
        "id": "tYdNqSRcDmm3"
      }
    },
    {
      "cell_type": "code",
      "source": [
        "import numpy as np\n",
        "datos1[\"saldo\"] = np.where(datos1[\"balance\"] < 0, \"Deuda\",\n",
        "                  np.where(datos1[\"balance\"] < 10000, \"Normal\", \"Suficiente\"))\n",
        "datos1\n",
        "\n"
      ],
      "metadata": {
        "id": "T0hettyfEBXc",
        "colab": {
          "base_uri": "https://localhost:8080/",
          "height": 423
        },
        "outputId": "c28c5bb1-ad9c-4f20-9792-32655f8f17fa"
      },
      "execution_count": null,
      "outputs": [
        {
          "output_type": "execute_result",
          "data": {
            "text/plain": [
              "       age  education  balance  duration   saldo\n",
              "0       58   tertiary     2143       261  Normal\n",
              "1       44  secondary       29       151  Normal\n",
              "2       33  secondary        2        76  Normal\n",
              "3       47    unknown     1506        92  Normal\n",
              "4       33    unknown        1       198  Normal\n",
              "...    ...        ...      ...       ...     ...\n",
              "45206   51   tertiary      825       977  Normal\n",
              "45207   71    primary     1729       456  Normal\n",
              "45208   72  secondary     5715      1127  Normal\n",
              "45209   57  secondary      668       508  Normal\n",
              "45210   37  secondary     2971       361  Normal\n",
              "\n",
              "[45211 rows x 5 columns]"
            ],
            "text/html": [
              "\n",
              "  <div id=\"df-1e6fa402-d97c-4fa4-a2f9-9f8fe95deb11\">\n",
              "    <div class=\"colab-df-container\">\n",
              "      <div>\n",
              "<style scoped>\n",
              "    .dataframe tbody tr th:only-of-type {\n",
              "        vertical-align: middle;\n",
              "    }\n",
              "\n",
              "    .dataframe tbody tr th {\n",
              "        vertical-align: top;\n",
              "    }\n",
              "\n",
              "    .dataframe thead th {\n",
              "        text-align: right;\n",
              "    }\n",
              "</style>\n",
              "<table border=\"1\" class=\"dataframe\">\n",
              "  <thead>\n",
              "    <tr style=\"text-align: right;\">\n",
              "      <th></th>\n",
              "      <th>age</th>\n",
              "      <th>education</th>\n",
              "      <th>balance</th>\n",
              "      <th>duration</th>\n",
              "      <th>saldo</th>\n",
              "    </tr>\n",
              "  </thead>\n",
              "  <tbody>\n",
              "    <tr>\n",
              "      <th>0</th>\n",
              "      <td>58</td>\n",
              "      <td>tertiary</td>\n",
              "      <td>2143</td>\n",
              "      <td>261</td>\n",
              "      <td>Normal</td>\n",
              "    </tr>\n",
              "    <tr>\n",
              "      <th>1</th>\n",
              "      <td>44</td>\n",
              "      <td>secondary</td>\n",
              "      <td>29</td>\n",
              "      <td>151</td>\n",
              "      <td>Normal</td>\n",
              "    </tr>\n",
              "    <tr>\n",
              "      <th>2</th>\n",
              "      <td>33</td>\n",
              "      <td>secondary</td>\n",
              "      <td>2</td>\n",
              "      <td>76</td>\n",
              "      <td>Normal</td>\n",
              "    </tr>\n",
              "    <tr>\n",
              "      <th>3</th>\n",
              "      <td>47</td>\n",
              "      <td>unknown</td>\n",
              "      <td>1506</td>\n",
              "      <td>92</td>\n",
              "      <td>Normal</td>\n",
              "    </tr>\n",
              "    <tr>\n",
              "      <th>4</th>\n",
              "      <td>33</td>\n",
              "      <td>unknown</td>\n",
              "      <td>1</td>\n",
              "      <td>198</td>\n",
              "      <td>Normal</td>\n",
              "    </tr>\n",
              "    <tr>\n",
              "      <th>...</th>\n",
              "      <td>...</td>\n",
              "      <td>...</td>\n",
              "      <td>...</td>\n",
              "      <td>...</td>\n",
              "      <td>...</td>\n",
              "    </tr>\n",
              "    <tr>\n",
              "      <th>45206</th>\n",
              "      <td>51</td>\n",
              "      <td>tertiary</td>\n",
              "      <td>825</td>\n",
              "      <td>977</td>\n",
              "      <td>Normal</td>\n",
              "    </tr>\n",
              "    <tr>\n",
              "      <th>45207</th>\n",
              "      <td>71</td>\n",
              "      <td>primary</td>\n",
              "      <td>1729</td>\n",
              "      <td>456</td>\n",
              "      <td>Normal</td>\n",
              "    </tr>\n",
              "    <tr>\n",
              "      <th>45208</th>\n",
              "      <td>72</td>\n",
              "      <td>secondary</td>\n",
              "      <td>5715</td>\n",
              "      <td>1127</td>\n",
              "      <td>Normal</td>\n",
              "    </tr>\n",
              "    <tr>\n",
              "      <th>45209</th>\n",
              "      <td>57</td>\n",
              "      <td>secondary</td>\n",
              "      <td>668</td>\n",
              "      <td>508</td>\n",
              "      <td>Normal</td>\n",
              "    </tr>\n",
              "    <tr>\n",
              "      <th>45210</th>\n",
              "      <td>37</td>\n",
              "      <td>secondary</td>\n",
              "      <td>2971</td>\n",
              "      <td>361</td>\n",
              "      <td>Normal</td>\n",
              "    </tr>\n",
              "  </tbody>\n",
              "</table>\n",
              "<p>45211 rows × 5 columns</p>\n",
              "</div>\n",
              "      <button class=\"colab-df-convert\" onclick=\"convertToInteractive('df-1e6fa402-d97c-4fa4-a2f9-9f8fe95deb11')\"\n",
              "              title=\"Convert this dataframe to an interactive table.\"\n",
              "              style=\"display:none;\">\n",
              "        \n",
              "  <svg xmlns=\"http://www.w3.org/2000/svg\" height=\"24px\"viewBox=\"0 0 24 24\"\n",
              "       width=\"24px\">\n",
              "    <path d=\"M0 0h24v24H0V0z\" fill=\"none\"/>\n",
              "    <path d=\"M18.56 5.44l.94 2.06.94-2.06 2.06-.94-2.06-.94-.94-2.06-.94 2.06-2.06.94zm-11 1L8.5 8.5l.94-2.06 2.06-.94-2.06-.94L8.5 2.5l-.94 2.06-2.06.94zm10 10l.94 2.06.94-2.06 2.06-.94-2.06-.94-.94-2.06-.94 2.06-2.06.94z\"/><path d=\"M17.41 7.96l-1.37-1.37c-.4-.4-.92-.59-1.43-.59-.52 0-1.04.2-1.43.59L10.3 9.45l-7.72 7.72c-.78.78-.78 2.05 0 2.83L4 21.41c.39.39.9.59 1.41.59.51 0 1.02-.2 1.41-.59l7.78-7.78 2.81-2.81c.8-.78.8-2.07 0-2.86zM5.41 20L4 18.59l7.72-7.72 1.47 1.35L5.41 20z\"/>\n",
              "  </svg>\n",
              "      </button>\n",
              "      \n",
              "  <style>\n",
              "    .colab-df-container {\n",
              "      display:flex;\n",
              "      flex-wrap:wrap;\n",
              "      gap: 12px;\n",
              "    }\n",
              "\n",
              "    .colab-df-convert {\n",
              "      background-color: #E8F0FE;\n",
              "      border: none;\n",
              "      border-radius: 50%;\n",
              "      cursor: pointer;\n",
              "      display: none;\n",
              "      fill: #1967D2;\n",
              "      height: 32px;\n",
              "      padding: 0 0 0 0;\n",
              "      width: 32px;\n",
              "    }\n",
              "\n",
              "    .colab-df-convert:hover {\n",
              "      background-color: #E2EBFA;\n",
              "      box-shadow: 0px 1px 2px rgba(60, 64, 67, 0.3), 0px 1px 3px 1px rgba(60, 64, 67, 0.15);\n",
              "      fill: #174EA6;\n",
              "    }\n",
              "\n",
              "    [theme=dark] .colab-df-convert {\n",
              "      background-color: #3B4455;\n",
              "      fill: #D2E3FC;\n",
              "    }\n",
              "\n",
              "    [theme=dark] .colab-df-convert:hover {\n",
              "      background-color: #434B5C;\n",
              "      box-shadow: 0px 1px 3px 1px rgba(0, 0, 0, 0.15);\n",
              "      filter: drop-shadow(0px 1px 2px rgba(0, 0, 0, 0.3));\n",
              "      fill: #FFFFFF;\n",
              "    }\n",
              "  </style>\n",
              "\n",
              "      <script>\n",
              "        const buttonEl =\n",
              "          document.querySelector('#df-1e6fa402-d97c-4fa4-a2f9-9f8fe95deb11 button.colab-df-convert');\n",
              "        buttonEl.style.display =\n",
              "          google.colab.kernel.accessAllowed ? 'block' : 'none';\n",
              "\n",
              "        async function convertToInteractive(key) {\n",
              "          const element = document.querySelector('#df-1e6fa402-d97c-4fa4-a2f9-9f8fe95deb11');\n",
              "          const dataTable =\n",
              "            await google.colab.kernel.invokeFunction('convertToInteractive',\n",
              "                                                     [key], {});\n",
              "          if (!dataTable) return;\n",
              "\n",
              "          const docLinkHtml = 'Like what you see? Visit the ' +\n",
              "            '<a target=\"_blank\" href=https://colab.research.google.com/notebooks/data_table.ipynb>data table notebook</a>'\n",
              "            + ' to learn more about interactive tables.';\n",
              "          element.innerHTML = '';\n",
              "          dataTable['output_type'] = 'display_data';\n",
              "          await google.colab.output.renderOutput(dataTable, element);\n",
              "          const docLink = document.createElement('div');\n",
              "          docLink.innerHTML = docLinkHtml;\n",
              "          element.appendChild(docLink);\n",
              "        }\n",
              "      </script>\n",
              "    </div>\n",
              "  </div>\n",
              "  "
            ]
          },
          "metadata": {},
          "execution_count": 87
        }
      ]
    },
    {
      "cell_type": "markdown",
      "source": [
        "Seguidamente graficamos los datos para poder explicar de la mejor forma posible si los estudios están directamente relacionados con el saldo de cada cliente en la cuenta. "
      ],
      "metadata": {
        "id": "_MQqDR_1s9gW"
      }
    },
    {
      "cell_type": "markdown",
      "source": [
        "Empezamos graficando un 'countplot' para así ver si podemos sacar conclusiones sobre la relación."
      ],
      "metadata": {
        "id": "YUskSYEJt_wf"
      }
    },
    {
      "cell_type": "code",
      "source": [
        "\n",
        "import seaborn as sns\n",
        "import matplotlib.pyplot as plt\n",
        "\n",
        "#Defino los colores\n",
        "blues = ['#c8d6e2','#a2c5d6', '#8aaac2']\n",
        "\n",
        "#Defino el orden en el eje de x y el orden de las categorías en la columna saldo\n",
        "orden1 = [\"primary\", \"secondary\", \"tertiary\", \"unknown\"]\n",
        "orden2 = ['Deuda', 'Normal', 'Suficiente']\n",
        "\n",
        "\n",
        "#Graficamos\n",
        "sns.countplot(x=\"education\", hue=\"saldo\", data=datos1, palette=blues, order=orden1, hue_order=orden2)\n",
        "plt.show()"
      ],
      "metadata": {
        "colab": {
          "base_uri": "https://localhost:8080/",
          "height": 279
        },
        "id": "DM6zuqcyclQt",
        "outputId": "694335f2-5562-467f-fdda-95b54641b46a"
      },
      "execution_count": null,
      "outputs": [
        {
          "output_type": "display_data",
          "data": {
            "text/plain": [
              "<Figure size 432x288 with 1 Axes>"
            ],
            "image/png": "[encoded data removed]"
          },
          "metadata": {
            "needs_background": "light"
          }
        }
      ]
    },
    {
      "cell_type": "markdown",
      "source": [
        "\n",
        "El gráfico muestra, para cada tipo de educación, la cantidad de personas en deuda, con saldo normal y suficiente.\n",
        "\n",
        "Viendo este gráfico, podríamos concluir que no hay ninguna relación entre las dos variables por dos razones:\n",
        "\n",
        "*  Hay más gente en **deuda** con estudios secundarios que gente en deuda con solo estudios primarios.\n",
        "*  Número similar de gente con saldo **suficiente** en ambos grupos \"terciario\" y \"secundario\".\n",
        "\n",
        "Sin embargo, observando la gráfica, hemos percibido que el número de gente en cada grupo no es homogéneo, por lo que la gráfica no es fiable para determinar la relación entre ambas variables. \n",
        "\n",
        "Es decir, al haber muchas más personas con estudios secundarios en el data frame, es normal que haya más endeudados."
      ],
      "metadata": {
        "id": "wKdRTptKufoG"
      }
    },
    {
      "cell_type": "markdown",
      "source": [
        "Por ello, procedemos a estudiar el porcentaje de personas que estan en deuda, tienen saldo suficiente y normal, para cada nivel de estudios. \n",
        "\n",
        "También concluimos que para este apartado no aportan nada los \"unknown\" por lo que creamos otro dataframe sin ellos.\n"
      ],
      "metadata": {
        "id": "oorOrzhK0DCj"
      }
    },
    {
      "cell_type": "code",
      "source": [
        "datos2 = datos1[datos1.education != \"unknown\"]"
      ],
      "metadata": {
        "id": "svdrgK_L3-ux"
      },
      "execution_count": null,
      "outputs": []
    },
    {
      "cell_type": "code",
      "source": [
        "#Graficamos las tres en un mismo marco de dibujo de tres columnas y una fila\n",
        "fig, axs = plt.subplots(1,3, figsize=(15, 10))\n",
        "\n",
        "#Agrupamos los datos\n",
        "grouped = datos2.groupby(['education', 'saldo']).size().reset_index(name=' ')\n",
        "\n",
        "#Graficamos\n",
        "for i, (educacion, datos2_educacion) in enumerate(grouped.groupby(\"education\")):\n",
        "    datos2_educacion = datos2_educacion.set_index(\"saldo\")\n",
        "    datos2_educacion[\" \"].plot.pie(autopct='%1.1f%%', ax=axs[i], labels=None, colors=blues)\n",
        "    axs[i].set_title(f\"{educacion}\")\n",
        "\n",
        "plt.tight_layout()\n",
        "plt.legend(['Deuda', 'Normal','Suficiente'], loc='lower center', ncol=3)\n",
        "plt.tight_layout()\n",
        "plt.show()"
      ],
      "metadata": {
        "colab": {
          "base_uri": "https://localhost:8080/",
          "height": 378
        },
        "id": "AV8XBu46fOjZ",
        "outputId": "5f2ab173-40a2-4ce3-d873-a3a111b929fd"
      },
      "execution_count": null,
      "outputs": [
        {
          "output_type": "display_data",
          "data": {
            "text/plain": [
              "<Figure size 1080x720 with 3 Axes>"
            ],
            "image/png": "[encoded data removed]"
          },
          "metadata": {}
        }
      ]
    },
    {
      "cell_type": "markdown",
      "source": [
        "Elegimos hacer tres pie charts. Cada una muestra el porcentaje de personas con un saldo suficiente, normal y en deuda para cada nivel de educación.\n",
        "\n",
        "Al observar las gráficas nos damos cuenta de que no hay gran diferencia entre las personas que terminan sus estudios tras acabar la primaria y las que llegan a cursar hasta secundaria. Ambos grupos tienen aproximadamente el mismo número de personas, en proporción, con un saldo suficiente, es decir, con un saldo mayor a 10,000€. La cifra exacta seria que un 1.2% personas con estudios primarios tienen un saldo mayor a 10.000€ en su cuenta y para los que tienen estudios secundarios el porcentaje aumenta tan solo en un 0.1%.\n",
        "\n",
        "Si seguimos observando estos dos grupos, podemos notar que el nivel de estudios no esta relacionado con el saldo ya que el porcentaje de deuda es mayor para las personas con estudios de secundaria (10.0%) que para los que completaron tan solo hasta primaria (8.9%).\n",
        "\n",
        "Sin embargo, si que parece haber una diferencia un poco más notable si contrastamos primaria y secundaria con estudios terciaros. Según los datos, dentro del grupo de personas con estudios terciarios, hay más del doble con saldo suficiente que en los otros grupos, pocos más con un saldo normal y casi la mitad de clientes endeudados (5.4%). Es sin ninguna duda el grupo que más destaca.\n",
        "\n",
        "En conclusión, el nivel de estudios no está directamente relacionado con el saldo de los clientes con estudios primarios y secundarios, pero si puede llegar a estar relacionado con aquellos clientes que han realizado estudios terciarios."
      ],
      "metadata": {
        "id": "db8MDM19D7cI"
      }
    },
    {
      "cell_type": "markdown",
      "source": [
        "##Apartado 2\n",
        "\n",
        "Otro dato interesante sería conocer cuál ha sido el grupo de edad que tiene más clientes. Así sabremos  si  los alumnos usan la  cuenta creada  a través de la  Universidad o no.  Para  ello haz una transformación  donde  los  alumnos  se  considerarán  personas  de  menos  de  30  años.  Trabajadores  jóvenes serán  personas  de  30  a 45  años,  de  46  a 65  años  serán  trabajadores  veteranos y  el  resto  serán  clientes  no vinculados a la Universidad. Obten un gráfico donde podamos ver como se distribuye cada clase. Interpreta los datos. "
      ],
      "metadata": {
        "id": "NQ5Pj1VNyfG2"
      }
    },
    {
      "cell_type": "code",
      "source": [
        "#Separar los datos\n",
        "def categorize_age(age):\n",
        "    if age < 30:\n",
        "        return 'Alumnos'\n",
        "    elif age < 46:\n",
        "        return 'Trabajadores jóvenes'\n",
        "    elif age < 66:\n",
        "        return 'Trabajadores veteranos'\n",
        "    else:\n",
        "        return 'No vinculados a la Universidad'\n",
        "\n",
        "#Agregar una columna de categorías de edad\n",
        "datos2['categoria_edad'] = datos2['age'].apply(categorize_age)  \n",
        "\n",
        "#Contar el número de clientes en cada grupo de edad\n",
        "counts = datos2['categoria_edad'].value_counts()  \n",
        "\n",
        "#Crear un gráfico de barras\n",
        "counts.plot(kind='bar', color='#a2c5d6') \n",
        "plt.title('Distribución de clientes por grupo de edad')\n",
        "plt.xlabel('Grupo de edad')\n",
        "plt.ylabel('Número de clientes')\n",
        "for i, v in enumerate(counts):\n",
        "    plt.text(i, v, str(v), ha='center', va='bottom')\n",
        "plt.show()"
      ],
      "metadata": {
        "colab": {
          "base_uri": "https://localhost:8080/",
          "height": 549
        },
        "id": "DnJ5NsV_1Cry",
        "outputId": "27190ded-4d33-4b3a-8874-eed4960ad9d7"
      },
      "execution_count": null,
      "outputs": [
        {
          "output_type": "stream",
          "name": "stderr",
          "text": [
            "<ipython-input-91-aad455db7551>:13: SettingWithCopyWarning: \n",
            "A value is trying to be set on a copy of a slice from a DataFrame.\n",
            "Try using .loc[row_indexer,col_indexer] = value instead\n",
            "\n",
            "See the caveats in the documentation: https://pandas.pydata.org/pandas-docs/stable/user_guide/indexing.html#returning-a-view-versus-a-copy\n",
            "  datos2['categoria_edad'] = datos2['age'].apply(categorize_age)\n"
          ]
        },
        {
          "output_type": "display_data",
          "data": {
            "text/plain": [
              "<Figure size 432x288 with 1 Axes>"
            ],
            "image/png": "[encoded data removed]"
          },
          "metadata": {
            "needs_background": "light"
          }
        }
      ]
    },
    {
      "cell_type": "markdown",
      "source": [
        "INTERPRETACIÓN DE LOS DATOS AQUI"
      ],
      "metadata": {
        "id": "FLIOEhDz2wiL"
      }
    },
    {
      "cell_type": "markdown",
      "source": [
        "##Apartado 3\n",
        "Por último queremos saber cómo se distribuyen y cuáles son las frecuencias respecto a los días que el cliente lleva en la empresa. Transforma los datos de manera que pasemos de días a años (tendremos decimales) y busca la representación más útil (sólo una). ¿Qué nos dicen los datos? "
      ],
      "metadata": {
        "id": "WttJrDA721Ol"
      }
    },
    {
      "cell_type": "code",
      "source": [
        "#Agregamos una columna de antigüedad en años\n",
        "datos2['antiguedad'] = datos2['duration'] / 365  \n",
        "\n",
        "#Creamos un histograma de antigüedad en años\n",
        "datos2['antiguedad'].plot.hist(bins=50, figsize=(15, 10), color='#a2c5d6') \n",
        "\n",
        "plt.title('Distribución de antigüedad en años')\n",
        "plt.xlabel('Antigüedad en años')\n",
        "plt.ylabel('Frecuencia')\n",
        "\n",
        "plt.show()"
      ],
      "metadata": {
        "colab": {
          "base_uri": "https://localhost:8080/",
          "height": 730
        },
        "id": "B3pyBDa-2wKM",
        "outputId": "977b2c81-e346-4977-a3d5-0779477ea06a"
      },
      "execution_count": null,
      "outputs": [
        {
          "output_type": "stream",
          "name": "stderr",
          "text": [
            "<ipython-input-94-307561986122>:2: SettingWithCopyWarning: \n",
            "A value is trying to be set on a copy of a slice from a DataFrame.\n",
            "Try using .loc[row_indexer,col_indexer] = value instead\n",
            "\n",
            "See the caveats in the documentation: https://pandas.pydata.org/pandas-docs/stable/user_guide/indexing.html#returning-a-view-versus-a-copy\n",
            "  datos2['antiguedad'] = datos2['duration'] / 365\n"
          ]
        },
        {
          "output_type": "display_data",
          "data": {
            "text/plain": [
              "<Figure size 1080x720 with 1 Axes>"
            ],
            "image/png": "[encoded data removed]"
          },
          "metadata": {
            "needs_background": "light"
          }
        }
      ]
    },
    {
      "cell_type": "markdown",
      "source": [
        "INTERPRETACIÓN DE LOS DATOS AQUI (¿QUE NOS DICEN LOS DATOS?)"
      ],
      "metadata": {
        "id": "dGXIQrsY-KN4"
      }
    }
  ]
}